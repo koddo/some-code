{
 "cells": [
  {
   "cell_type": "code",
   "execution_count": 33,
   "metadata": {},
   "outputs": [
    {
     "name": "stdout",
     "output_type": "stream",
     "text": [
      "<sqlite3.Cursor object at 0x10f6a1ab0>\n",
      "<sqlite3.Row object at 0x10f66d6b0>\n",
      "<sqlite3.Row object at 0x10f66d890>\n",
      "<sqlite3.Row object at 0x10f66d6b0>\n",
      "None\n",
      "<class 'sqlite3.Row'>\n",
      "2018-01-27 => 2018-01-27 <class 'datetime.date'>\n",
      "2018-01-27 18:25:25.128803 => 2018-01-27 18:25:25.128803 <class 'datetime.datetime'>\n",
      "current_date 2018-01-27 <class 'str'>\n",
      "current_timestamp 2018-01-27 15:25:25 <class 'str'>\n"
     ]
    }
   ],
   "source": [
    "import sqlite3\n",
    "from contextlib import closing\n",
    "import datetime\n",
    "\n",
    "with closing(sqlite3.connect(\":memory:\", detect_types=sqlite3.PARSE_DECLTYPES)) as conn:\n",
    "    conn.row_factory = sqlite3.Row\n",
    "    with closing(conn.cursor()) as cur:\n",
    "        with conn:\n",
    "            cur.execute('''CREATE TABLE stocks\n",
    "             (date text, trans text, symbol text, qty real, price real)''')\n",
    "            purchases = [('2006-03-28', 'BUY', 'IBM', 1000, 45.00),\n",
    "             ('2006-04-05', 'BUY', 'MSFT', 1000, 72.00),\n",
    "             ('2006-04-06', 'SELL', 'IBM', 500, 53.00),\n",
    "            ]\n",
    "            cur.executemany('INSERT INTO stocks VALUES (?,?,?,?,?)', purchases)\n",
    "            rows = cur.execute('SELECT * FROM stocks ORDER BY price')\n",
    "            print(rows)\n",
    "            for r in rows:\n",
    "                print(r)\n",
    "            \n",
    "            cur.execute('SELECT * FROM stocks WHERE symbol=?', ('RHAT',))\n",
    "            print(cur.fetchone())\n",
    "            cur.execute('SELECT * FROM stocks WHERE symbol=?', ('IBM',))\n",
    "            r = cur.fetchone()\n",
    "            print(type(r))\n",
    "            \n",
    "            cur.execute(\"create table test(d date, ts timestamp)\")\n",
    "\n",
    "            today = datetime.date.today()\n",
    "            now = datetime.datetime.now()\n",
    "\n",
    "            cur.execute(\"insert into test(d, ts) values (?, ?)\", (today, now))\n",
    "            cur.execute(\"select d, ts from test\")\n",
    "            row = cur.fetchone()\n",
    "            print(today, \"=>\", row['d'], type(row['d']))\n",
    "            print(now, \"=>\", row['ts'], type(row['ts']))\n",
    "\n",
    "            \n",
    "            cur.execute('select current_date as \"d [date]\", current_timestamp as \"ts [timestamp]\"')\n",
    "            row = cur.fetchone()\n",
    "            print(\"current_date\", row['d'], type(row['d']))\n",
    "            print(\"current_timestamp\", row['ts'], type(row['ts']))\n",
    "            \n",
    "            "
   ]
  },
  {
   "cell_type": "code",
   "execution_count": null,
   "metadata": {},
   "outputs": [],
   "source": []
  },
  {
   "cell_type": "code",
   "execution_count": null,
   "metadata": {},
   "outputs": [],
   "source": []
  },
  {
   "cell_type": "code",
   "execution_count": null,
   "metadata": {},
   "outputs": [],
   "source": []
  },
  {
   "cell_type": "code",
   "execution_count": null,
   "metadata": {},
   "outputs": [],
   "source": []
  },
  {
   "cell_type": "code",
   "execution_count": null,
   "metadata": {},
   "outputs": [],
   "source": []
  },
  {
   "cell_type": "code",
   "execution_count": null,
   "metadata": {},
   "outputs": [],
   "source": []
  },
  {
   "cell_type": "code",
   "execution_count": null,
   "metadata": {},
   "outputs": [],
   "source": []
  }
 ],
 "metadata": {
  "kernelspec": {
   "display_name": "Python 3",
   "language": "python",
   "name": "python3"
  },
  "language_info": {
   "codemirror_mode": {
    "name": "ipython",
    "version": 3
   },
   "file_extension": ".py",
   "mimetype": "text/x-python",
   "name": "python",
   "nbconvert_exporter": "python",
   "pygments_lexer": "ipython3",
   "version": "3.6.0"
  }
 },
 "nbformat": 4,
 "nbformat_minor": 2
}
